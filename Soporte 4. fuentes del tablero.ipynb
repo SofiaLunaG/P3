{
 "cells": [
  {
   "cell_type": "code",
   "execution_count": 9,
   "metadata": {},
   "outputs": [],
   "source": [
    "import joblib\n",
    "\n",
    "class RegressionModel:  # Define la clase como en el script original\n",
    "    pass  # Aquí irían los métodos y atributos de la clase\n",
    "\n",
    "modelo_cargado = joblib.load('C:\\\\Users\\\\gutil\\\\OneDrive - Universidad de los andes\\\\Escritorio\\\\Ingenieria Industrial\\\\2024-01\\\\Analitica Computacional Para la Toma de Decisiones\\\\Proyecto\\\\Proyecto 3\\\\P3\\\\model_regression.pkl')\n"
   ]
  }
 ],
 "metadata": {
  "kernelspec": {
   "display_name": "Python 3",
   "language": "python",
   "name": "python3"
  },
  "language_info": {
   "codemirror_mode": {
    "name": "ipython",
    "version": 3
   },
   "file_extension": ".py",
   "mimetype": "text/x-python",
   "name": "python",
   "nbconvert_exporter": "python",
   "pygments_lexer": "ipython3",
   "version": "3.11.7"
  }
 },
 "nbformat": 4,
 "nbformat_minor": 2
}
