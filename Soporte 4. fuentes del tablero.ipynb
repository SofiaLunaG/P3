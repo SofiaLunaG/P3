{
 "cells": [
  {
   "cell_type": "code",
   "execution_count": 16,
   "metadata": {},
   "outputs": [],
   "source": [
    "import joblib\n",
    "\n",
    "class RegressionModel:  # Define la clase como en el script original\n",
    "    pass  # Aquí irían los métodos y atributos de la clase\n",
    "\n",
    "modelo_cargado = joblib.load('C:\\\\Users\\\\gutil\\\\OneDrive - Universidad de los andes\\\\Escritorio\\\\Ingenieria Industrial\\\\2024-01\\\\Analitica Computacional Para la Toma de Decisiones\\\\Proyecto\\\\Proyecto 3\\\\P3\\\\model_regression.pkl')\n"
   ]
  },
  {
   "cell_type": "code",
   "execution_count": 21,
   "metadata": {},
   "outputs": [
    {
     "name": "stdout",
     "output_type": "stream",
     "text": [
      "Predicción del modelo: 4273.65576171875\n"
     ]
    }
   ],
   "source": [
    "import joblib\n",
    "import numpy as np\n",
    "import torch\n",
    "\n",
    "# Cargar el modelo guardado\n",
    "modelo_cargado = joblib.load('C:\\\\Users\\\\gutil\\\\OneDrive - Universidad de los andes\\\\Escritorio\\\\Ingenieria Industrial\\\\2024-01\\\\Analitica Computacional Para la Toma de Decisiones\\\\Proyecto\\\\Proyecto 3\\\\P3\\\\model_regression.pkl')\n",
    "\n",
    "# Definir el nuevo conjunto de datos basado en los valores únicos proporcionados\n",
    "nuevo_dato = np.array([[2, 5, 6, 3, 4, 1, 1, 1, 1,80]])\n",
    "#(cuartos_hogar, educacionmadre, educacionpadre, estratovivienda, personashogar, tienenautomovil, tienecomputador, tieneinternet, tienelavadora, puntajeLecturaCritica)\n",
    "\n",
    "\n",
    "# Convertir los nuevos datos a tensor de PyTorch\n",
    "nuevo_dato_tensor = torch.tensor(nuevo_dato, dtype=torch.float32)\n",
    "\n",
    "# Hacer predicciones con los nuevos datos\n",
    "with torch.no_grad():\n",
    "    prediccion = modelo_cargado(nuevo_dato_tensor).item()\n",
    "\n",
    "print(f'Predicción del modelo: {prediccion}')\n"
   ]
  }
 ],
 "metadata": {
  "kernelspec": {
   "display_name": "Python 3",
   "language": "python",
   "name": "python3"
  },
  "language_info": {
   "codemirror_mode": {
    "name": "ipython",
    "version": 3
   },
   "file_extension": ".py",
   "mimetype": "text/x-python",
   "name": "python",
   "nbconvert_exporter": "python",
   "pygments_lexer": "ipython3",
   "version": "3.11.7"
  }
 },
 "nbformat": 4,
 "nbformat_minor": 2
}
