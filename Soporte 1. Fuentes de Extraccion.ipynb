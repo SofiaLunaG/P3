{
 "cells": [
  {
   "cell_type": "code",
   "execution_count": 3,
   "metadata": {},
   "outputs": [
    {
     "name": "stdout",
     "output_type": "stream",
     "text": [
      "Tamaño completo:  (470818, 51)\n",
      "Tamaño sin filas completas duplicadas,  (377679, 51)\n",
      "Tamaño sin llaves duplicadas  (377678, 51)\n"
     ]
    }
   ],
   "source": [
    "import pandas as pd\n",
    "\n",
    "\n",
    "df = pd.read_csv('.\\\\icfes_resultados.csv')\n",
    "print('Tamaño completo: ', df.shape)\n",
    "\n",
    "df = df.drop_duplicates()\n",
    "print('Tamaño sin filas completas duplicadas, ',  df.shape)\n",
    "\n",
    "df = df.drop_duplicates(subset='estu_consecutivo')\n",
    "print('Tamaño sin llaves duplicadas ', df.shape)\n",
    "\n"
   ]
  }
 ],
 "metadata": {
  "kernelspec": {
   "display_name": "Python 3",
   "language": "python",
   "name": "python3"
  },
  "language_info": {
   "codemirror_mode": {
    "name": "ipython",
    "version": 3
   },
   "file_extension": ".py",
   "mimetype": "text/x-python",
   "name": "python",
   "nbconvert_exporter": "python",
   "pygments_lexer": "ipython3",
   "version": "3.11.7"
  }
 },
 "nbformat": 4,
 "nbformat_minor": 2
}
