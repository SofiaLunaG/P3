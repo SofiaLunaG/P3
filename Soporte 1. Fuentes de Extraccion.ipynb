{
 "cells": [
  {
   "cell_type": "code",
   "execution_count": 9,
   "metadata": {},
   "outputs": [
    {
     "name": "stdout",
     "output_type": "stream",
     "text": [
      "Tamaño completo:  (470818, 51)\n",
      "Tamaño sin filas completas duplicadas,  (377679, 51)\n",
      "Tamaño sin llaves duplicadas  (377678, 51)\n"
     ]
    }
   ],
   "source": [
    "import pandas as pd\n",
    "\n",
    "\n",
    "df = pd.read_csv(\"C:\\\\Users\\\\gutil\\\\OneDrive - Universidad de los andes\\\\Escritorio\\\\Ingenieria Industrial\\\\2024-01\\\\Analitica Computacional Para la Toma de Decisiones\\\\Proyecto\\\\Proyecto 3\\\\icfes_resultados.csv\")\n",
    "print('Tamaño completo: ', df.shape)\n",
    "\n",
    "df = df.drop_duplicates()\n",
    "print('Tamaño sin filas completas duplicadas, ',  df.shape)\n",
    "\n",
    "df = df.drop_duplicates(subset='estu_consecutivo')\n",
    "print('Tamaño sin llaves duplicadas ', df.shape)\n",
    "\n",
    "\n"
   ]
  },
  {
   "cell_type": "markdown",
   "metadata": {},
   "source": [
    "# Valores Puntaje Global sin NaN"
   ]
  },
  {
   "cell_type": "code",
   "execution_count": 8,
   "metadata": {},
   "outputs": [
    {
     "name": "stdout",
     "output_type": "stream",
     "text": [
      "Tamaño sin ciertas columnas  (377678, 46)\n",
      "Tamaño sin valores faltantes  (176827, 46)\n"
     ]
    }
   ],
   "source": [
    "\n",
    "# df = df.drop('punt_sociales_ciudadanas', axis=1)\n",
    "# df = df.drop('punt_matematicas', axis=1)\n",
    "# df = df.drop('punt_c_naturales', axis=1)\n",
    "# df = df.drop('punt_lectura_critica', axis=1)\n",
    "# df = df.drop('punt_ingles', axis=1)\n",
    "\n",
    "# print('Tamaño sin ciertas columnas ', df.shape )\n",
    "\n",
    "# df_puntaje = df.dropna()\n",
    "# print('Tamaño sin valores faltantes ', df_puntaje.shape)\n"
   ]
  },
  {
   "cell_type": "markdown",
   "metadata": {},
   "source": [
    "# Valores Puntaje Ingles sin NaN"
   ]
  },
  {
   "cell_type": "code",
   "execution_count": 10,
   "metadata": {},
   "outputs": [
    {
     "name": "stdout",
     "output_type": "stream",
     "text": [
      "Tamaño sin ciertas columnas  (377678, 46)\n",
      "Tamaño sin valores faltantes  (303479, 46)\n"
     ]
    }
   ],
   "source": [
    "\n",
    "# df = df.drop('punt_sociales_ciudadanas', axis=1)\n",
    "# df = df.drop('punt_matematicas', axis=1)\n",
    "# df = df.drop('punt_c_naturales', axis=1)\n",
    "# df = df.drop('punt_lectura_critica', axis=1)\n",
    "# df = df.drop('punt_global', axis=1)\n",
    "\n",
    "# print('Tamaño sin el resto de puntajes ', df.shape )\n",
    "\n",
    "# df = df.dropna()\n",
    "# print('Tamaño sin valores faltantes ', df.shape)\n",
    "\n",
    "# valores = df['punt_ingles']\n",
    "# valores  = valores.tolist()\n",
    "\n",
    "# valores_str_replace = [val.replace(',', '.') if isinstance(val, str) else val for val in valores]\n",
    "# vstr = pd.to_numeric(valores_str_replace, errors='raise', downcast='float')\n",
    "\n",
    "# df_puntaje = df\n",
    "\n",
    "# df_puntaje['punt_ingles'] = vstr\n"
   ]
  },
  {
   "cell_type": "markdown",
   "metadata": {},
   "source": [
    "# Puntaje Matematicas sin Valores NaN"
   ]
  },
  {
   "cell_type": "code",
   "execution_count": null,
   "metadata": {},
   "outputs": [],
   "source": [
    "\n",
    "# df = df.drop('punt_sociales_ciudadanas', axis=1)\n",
    "# df = df.drop('punt_ingles', axis=1)\n",
    "# df = df.drop('punt_c_naturales', axis=1)\n",
    "# df = df.drop('punt_lectura_critica', axis=1)\n",
    "# df = df.drop('punt_global', axis=1)\n",
    "\n",
    "# print('Tamaño sin el resto de puntajes ', df.shape )\n",
    "\n",
    "# df = df.dropna()\n",
    "# print('Tamaño sin valores faltantes ', df.shape)\n",
    "\n",
    "# valores = df['punt_matematicas']\n",
    "# valores  = valores.tolist()\n",
    "\n",
    "# valores_str_replace = [val.replace(',', '.') if isinstance(val, str) else val for val in valores]\n",
    "# vstr = pd.to_numeric(valores_str_replace, errors='raise', downcast='float')\n",
    "\n",
    "# df_puntaje = df\n",
    "\n",
    "# df_puntaje['punt_matematicas'] = vstr"
   ]
  },
  {
   "cell_type": "markdown",
   "metadata": {},
   "source": [
    "# Puntaje Sociales Ciudadanas sin NaN"
   ]
  },
  {
   "cell_type": "code",
   "execution_count": null,
   "metadata": {},
   "outputs": [],
   "source": [
    "\n",
    "# df = df.drop('punt_matematicas', axis=1)\n",
    "# df = df.drop('punt_ingles', axis=1)\n",
    "# df = df.drop('punt_c_naturales', axis=1)\n",
    "# df = df.drop('punt_lectura_critica', axis=1)\n",
    "# df = df.drop('punt_global', axis=1)\n",
    "\n",
    "# print('Tamaño sin el resto de puntajes ', df.shape )\n",
    "\n",
    "# df = df.dropna()\n",
    "# print('Tamaño sin valores faltantes ', df.shape)\n",
    "\n",
    "# valores = df['punt_sociales_ciudadanas']\n",
    "# valores  = valores.tolist()\n",
    "\n",
    "# valores_str_replace = [val.replace(',', '.') if isinstance(val, str) else val for val in valores]\n",
    "# vstr = pd.to_numeric(valores_str_replace, errors='raise', downcast='float')\n",
    "\n",
    "# df_puntaje = df\n",
    "\n",
    "# df_puntaje['punt_sociales_ciudadanas'] = vstr"
   ]
  },
  {
   "cell_type": "markdown",
   "metadata": {},
   "source": [
    "# Puntaje Ciencias Naturales sin NaN"
   ]
  },
  {
   "cell_type": "code",
   "execution_count": null,
   "metadata": {},
   "outputs": [],
   "source": [
    "\n",
    "# df = df.drop('punt_matematicas', axis=1)\n",
    "# df = df.drop('punt_ingles', axis=1)\n",
    "# df = df.drop('punt_sociales_ciudadanas', axis=1)\n",
    "# df = df.drop('punt_lectura_critica', axis=1)\n",
    "# df = df.drop('punt_global', axis=1)\n",
    "\n",
    "# print('Tamaño sin el resto de puntajes ', df.shape )\n",
    "\n",
    "# df = df.dropna()\n",
    "# print('Tamaño sin valores faltantes ', df.shape)\n",
    "\n",
    "# valores = df['punt_c_naturales']\n",
    "# valores  = valores.tolist()\n",
    "\n",
    "# valores_str_replace = [val.replace(',', '.') if isinstance(val, str) else val for val in valores]\n",
    "# vstr = pd.to_numeric(valores_str_replace, errors='raise', downcast='float')\n",
    "\n",
    "# df_puntaje = df\n",
    "\n",
    "# df_puntaje['punt_c_naturales'] = vstr"
   ]
  },
  {
   "cell_type": "markdown",
   "metadata": {},
   "source": [
    "# Puntaje Lectura Critica sin NaN"
   ]
  },
  {
   "cell_type": "code",
   "execution_count": null,
   "metadata": {},
   "outputs": [],
   "source": [
    "\n",
    "# df = df.drop('punt_matematicas', axis=1)\n",
    "# df = df.drop('punt_ingles', axis=1)\n",
    "# df = df.drop('punt_sociales_ciudadanas', axis=1)\n",
    "# df = df.drop('punt_c_naturales', axis=1)\n",
    "# df = df.drop('punt_global', axis=1)\n",
    "\n",
    "# print('Tamaño sin el resto de puntajes ', df.shape )\n",
    "\n",
    "# df = df.dropna()\n",
    "# print('Tamaño sin valores faltantes ', df.shape)\n",
    "\n",
    "# valores = df['punt_lectura_critica']\n",
    "# valores  = valores.tolist()\n",
    "\n",
    "# valores_str_replace = [val.replace(',', '.') if isinstance(val, str) else val for val in valores]\n",
    "# vstr = pd.to_numeric(valores_str_replace, errors='raise', downcast='float')\n",
    "\n",
    "# df_puntaje = df\n",
    "\n",
    "# df_puntaje['punt_lectura_critica'] = vstr"
   ]
  },
  {
   "cell_type": "markdown",
   "metadata": {},
   "source": [
    "# Guardar el CSV con los Datos Seleccionados"
   ]
  },
  {
   "cell_type": "code",
   "execution_count": null,
   "metadata": {},
   "outputs": [],
   "source": [
    "# df_puntaje.to_csv('\\path\\nombre.csv', index = False)"
   ]
  },
  {
   "cell_type": "markdown",
   "metadata": {},
   "source": [
    "# Dummies"
   ]
  },
  {
   "cell_type": "code",
   "execution_count": null,
   "metadata": {},
   "outputs": [],
   "source": [
    "# df_completo = df_puntaje\n",
    "\n",
    "# df = pd.DataFrame()\n",
    "\n",
    "# df['cole_area_ubicacion'] = dfcompleto['cole_area_ubicacion']\n",
    "# df['intercepto'] = 1\n",
    "# df['cole_bilingue'] = dfcompleto['cole_bilingue']\n",
    "# df['cole_calendario'] = dfcompleto['cole_calendario']\n",
    "# df['cole_caracter'] = dfcompleto['cole_caracter']\n",
    "# df['fami_educacionmadre'] = dfcompleto['fami_educacionmadre']\n",
    "# df['fami_educacionpadre'] = dfcompleto['fami_educacionpadre']\n",
    "# df['fami_estratovivienda'] = dfcompleto['fami_estratovivienda']\n",
    "# df['fami_personashogar'] = dfcompleto['fami_personashogar']\n",
    "# df['fami_tieneautomovil'] = dfcompleto['fami_tieneautomovil']\n",
    "# df['fami_tienecomputador'] = dfcompleto['fami_tienecomputador']\n",
    "# df['fami_tieneinternet'] = dfcompleto['fami_tieneinternet']\n",
    "# df['fami_tienelavadora'] = dfcompleto['fami_tienelavadora']\n",
    "# df['desemp_ingles'] = dfcompleto['desemp_ingles']\n",
    "# df['punt_matematicas'] = dfcompleto['punt_matematicas']\n",
    "# df['cole_depto_ubicacion'] = dfcompleto['cole_depto_ubicacion']\n"
   ]
  },
  {
   "cell_type": "code",
   "execution_count": null,
   "metadata": {},
   "outputs": [],
   "source": [
    "# df = pd.get_dummies(df, columns=['COLE_AREA_UBICACION'], dtype = int)\n",
    "# df.drop('COLE_AREA_UBICACION_RURAL', axis=1, inplace=True)\n",
    "\n",
    "# df = pd.get_dummies(df, columns=['COLE_BILINGUE'], dtype = int)\n",
    "# df.drop('COLE_BILINGUE_N', axis=1, inplace=True)\n",
    "\n",
    "# df = pd.get_dummies(df, columns=['COLE_CALENDARIO'], dtype = int)\n",
    "# df.drop('COLE_CALENDARIO_OTRO', axis=1, inplace=True)\n",
    "\n",
    "# df = pd.get_dummies(df, columns=['COLE_CARACTER'], dtype = int)\n",
    "# df.drop('COLE_CARACTER_NO APLICA', axis=1, inplace=True)\n",
    "\n",
    "# df = pd.get_dummies(df, columns=['FAMI_EDUCACIONMADRE'], dtype = int)\n",
    "# df.drop('FAMI_EDUCACIONMADRE_No Aplica', axis=1, inplace=True)\n",
    "\n",
    "# df = pd.get_dummies(df, columns=['FAMI_EDUCACIONPADRE'], dtype = int)\n",
    "# df.drop('FAMI_EDUCACIONPADRE_No Aplica', axis=1, inplace=True)\n",
    "\n",
    "# df = pd.get_dummies(df, columns=['FAMI_ESTRATOVIVIENDA'], dtype = int)\n",
    "# df.drop('FAMI_ESTRATOVIVIENDA_Vive en una zona rural donde no hay estratificación socioeconómica', axis=1, inplace=True)\n",
    "\n",
    "# df = pd.get_dummies(df, columns=['FAMI_PERSONASHOGAR'], dtype = int)\n",
    "# df.drop('FAMI_PERSONASHOGAR_12 o más', axis=1, inplace=True)\n",
    "\n",
    "# df = pd.get_dummies(df, columns=['FAMI_TIENEAUTOMOVIL'], dtype = int)\n",
    "# df.drop('FAMI_TIENEAUTOMOVIL_No', axis=1, inplace=True)\n",
    "\n",
    "# df = pd.get_dummies(df, columns=['FAMI_TIENECOMPUTADOR'], dtype = int)\n",
    "# df.drop('FAMI_TIENECOMPUTADOR_No', axis=1, inplace=True)\n",
    "\n",
    "# df = pd.get_dummies(df, columns=['FAMI_TIENEINTERNET'], dtype = int)\n",
    "# df.drop('FAMI_TIENEINTERNET_No', axis=1, inplace=True)\n",
    "\n",
    "# df = pd.get_dummies(df, columns=['FAMI_TIENELAVADORA'], dtype = int)\n",
    "# df.drop('FAMI_TIENELAVADORA_No', axis=1, inplace=True)\n",
    "\n",
    "# df = pd.get_dummies(df, columns=['DESEMP_INGLES'], dtype = int)\n",
    "# df.drop('DESEMP_INGLES_B+', axis=1, inplace=True)\n",
    "\n",
    "# df = pd.get_dummies(df, columns=['COLE_DEPTO_UBICACION'], dtype = int)\n",
    "# df.drop('COLE_DEPTO_UBICACION_VICHADA', axis=1, inplace=True)\n"
   ]
  }
 ],
 "metadata": {
  "kernelspec": {
   "display_name": "Python 3",
   "language": "python",
   "name": "python3"
  },
  "language_info": {
   "codemirror_mode": {
    "name": "ipython",
    "version": 3
   },
   "file_extension": ".py",
   "mimetype": "text/x-python",
   "name": "python",
   "nbconvert_exporter": "python",
   "pygments_lexer": "ipython3",
   "version": "3.11.7"
  }
 },
 "nbformat": 4,
 "nbformat_minor": 2
}
